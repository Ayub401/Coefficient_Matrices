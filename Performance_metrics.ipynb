{
 "cells": [
  {
   "cell_type": "markdown",
   "metadata": {
    "id": "s0Ej_bXyQvnV"
   },
   "source": [
    "# Compute performance metrics for the given Y and Y_score without sklearn"
   ]
  },
  {
   "cell_type": "code",
   "execution_count": 2,
   "metadata": {
    "id": "4CHb6NE7Qvnc"
   },
   "outputs": [],
   "source": [
    "import numpy as np\n",
    "import pandas as pd\n",
    "from tqdm import tqdm\n",
    "# other than these two we will not import any other packages"
   ]
  },
  {
   "cell_type": "markdown",
   "metadata": {
    "id": "KbsWXuDaQvnq"
   },
   "source": [
    "\n",
    "### A. Compute performance metrics for the given data '5_a.csv'\n",
    " <pre>  <b>Note 1:</b> in this data you can see number of positive points >> number of negatives points\n",
    "   <b>Note 2:</b> use pandas or numpy to read the data from <b>5_a.csv</b>\n",
    "   <b>Note 3:</b> you need to derive the class labels from given score</pre> $y^{pred}= \\text{[0 if y_score < 0.5 else 1]}$\n",
    "\n",
    "<pre>\n",
    "<ol>\n",
    "<li> Compute Confusion Matrix </li>\n",
    "<li> Compute F1 Score </li>\n",
    "<li> Compute AUC Score,\n",
    "Note- Make sure that you arrange your probability scores in descending order while calculating AUC</li>\n",
    "<li> Compute Accuracy Score </li>\n",
    "</ol>\n",
    "</pre>"
   ]
  },
  {
   "cell_type": "code",
   "execution_count": 3,
   "metadata": {
    "id": "WaFLW7oBQvnt",
    "outputId": "6b946039-9531-4720-8110-dfed18e66b0f"
   },
   "outputs": [
    {
     "data": {
      "text/html": [
       "<div>\n",
       "<style scoped>\n",
       "    .dataframe tbody tr th:only-of-type {\n",
       "        vertical-align: middle;\n",
       "    }\n",
       "\n",
       "    .dataframe tbody tr th {\n",
       "        vertical-align: top;\n",
       "    }\n",
       "\n",
       "    .dataframe thead th {\n",
       "        text-align: right;\n",
       "    }\n",
       "</style>\n",
       "<table border=\"1\" class=\"dataframe\">\n",
       "  <thead>\n",
       "    <tr style=\"text-align: right;\">\n",
       "      <th></th>\n",
       "      <th>y</th>\n",
       "      <th>proba</th>\n",
       "    </tr>\n",
       "  </thead>\n",
       "  <tbody>\n",
       "    <tr>\n",
       "      <th>0</th>\n",
       "      <td>1.0</td>\n",
       "      <td>0.637387</td>\n",
       "    </tr>\n",
       "    <tr>\n",
       "      <th>1</th>\n",
       "      <td>1.0</td>\n",
       "      <td>0.635165</td>\n",
       "    </tr>\n",
       "    <tr>\n",
       "      <th>2</th>\n",
       "      <td>1.0</td>\n",
       "      <td>0.766586</td>\n",
       "    </tr>\n",
       "    <tr>\n",
       "      <th>3</th>\n",
       "      <td>1.0</td>\n",
       "      <td>0.724564</td>\n",
       "    </tr>\n",
       "    <tr>\n",
       "      <th>4</th>\n",
       "      <td>1.0</td>\n",
       "      <td>0.889199</td>\n",
       "    </tr>\n",
       "    <tr>\n",
       "      <th>...</th>\n",
       "      <td>...</td>\n",
       "      <td>...</td>\n",
       "    </tr>\n",
       "    <tr>\n",
       "      <th>10095</th>\n",
       "      <td>1.0</td>\n",
       "      <td>0.665371</td>\n",
       "    </tr>\n",
       "    <tr>\n",
       "      <th>10096</th>\n",
       "      <td>1.0</td>\n",
       "      <td>0.607961</td>\n",
       "    </tr>\n",
       "    <tr>\n",
       "      <th>10097</th>\n",
       "      <td>1.0</td>\n",
       "      <td>0.777724</td>\n",
       "    </tr>\n",
       "    <tr>\n",
       "      <th>10098</th>\n",
       "      <td>1.0</td>\n",
       "      <td>0.846036</td>\n",
       "    </tr>\n",
       "    <tr>\n",
       "      <th>10099</th>\n",
       "      <td>1.0</td>\n",
       "      <td>0.679507</td>\n",
       "    </tr>\n",
       "  </tbody>\n",
       "</table>\n",
       "<p>10100 rows × 2 columns</p>\n",
       "</div>"
      ],
      "text/plain": [
       "         y     proba\n",
       "0      1.0  0.637387\n",
       "1      1.0  0.635165\n",
       "2      1.0  0.766586\n",
       "3      1.0  0.724564\n",
       "4      1.0  0.889199\n",
       "...    ...       ...\n",
       "10095  1.0  0.665371\n",
       "10096  1.0  0.607961\n",
       "10097  1.0  0.777724\n",
       "10098  1.0  0.846036\n",
       "10099  1.0  0.679507\n",
       "\n",
       "[10100 rows x 2 columns]"
      ]
     },
     "execution_count": 3,
     "metadata": {},
     "output_type": "execute_result"
    }
   ],
   "source": [
    "df_a=pd.read_csv('5_a.csv')\n",
    "df_a"
   ]
  },
  {
   "cell_type": "code",
   "execution_count": 4,
   "metadata": {
    "id": "EWOxPhGJ5_Kl",
    "outputId": "00f91d1f-8de5-44a1-9b4e-b0ab2fafbba7"
   },
   "outputs": [
    {
     "data": {
      "text/plain": [
       "y        10100\n",
       "proba    10100\n",
       "dtype: int64"
      ]
     },
     "execution_count": 4,
     "metadata": {},
     "output_type": "execute_result"
    }
   ],
   "source": [
    "#Checking how many datapoints are there whose probability is greater than 0.5\n",
    "df_a[df_a[\"proba\"]>0.5].count()"
   ]
  },
  {
   "cell_type": "code",
   "execution_count": 5,
   "metadata": {
    "id": "cWqhtCgj5_Ko"
   },
   "outputs": [],
   "source": [
    "y_pred =[]\n",
    "for x in df_a[\"proba\"]:\n",
    "    if x<0.5:    #will assign 0 if probability is less than 0.5\n",
    "        y_pred.append(0)\n",
    "    else:\n",
    "        y_pred.append(1)\n",
    "#print(y_pred)        "
   ]
  },
  {
   "cell_type": "code",
   "execution_count": 6,
   "metadata": {
    "id": "yg8uUJvGAfCM",
    "outputId": "32c9f426-93c7-4721-a9d0-7046af83fe79"
   },
   "outputs": [
    {
     "data": {
      "text/html": [
       "<div>\n",
       "<style scoped>\n",
       "    .dataframe tbody tr th:only-of-type {\n",
       "        vertical-align: middle;\n",
       "    }\n",
       "\n",
       "    .dataframe tbody tr th {\n",
       "        vertical-align: top;\n",
       "    }\n",
       "\n",
       "    .dataframe thead th {\n",
       "        text-align: right;\n",
       "    }\n",
       "</style>\n",
       "<table border=\"1\" class=\"dataframe\">\n",
       "  <thead>\n",
       "    <tr style=\"text-align: right;\">\n",
       "      <th></th>\n",
       "      <th>y</th>\n",
       "      <th>proba</th>\n",
       "      <th>y_predicted</th>\n",
       "    </tr>\n",
       "  </thead>\n",
       "  <tbody>\n",
       "    <tr>\n",
       "      <th>0</th>\n",
       "      <td>1.0</td>\n",
       "      <td>0.637387</td>\n",
       "      <td>1</td>\n",
       "    </tr>\n",
       "    <tr>\n",
       "      <th>1</th>\n",
       "      <td>1.0</td>\n",
       "      <td>0.635165</td>\n",
       "      <td>1</td>\n",
       "    </tr>\n",
       "    <tr>\n",
       "      <th>2</th>\n",
       "      <td>1.0</td>\n",
       "      <td>0.766586</td>\n",
       "      <td>1</td>\n",
       "    </tr>\n",
       "    <tr>\n",
       "      <th>3</th>\n",
       "      <td>1.0</td>\n",
       "      <td>0.724564</td>\n",
       "      <td>1</td>\n",
       "    </tr>\n",
       "    <tr>\n",
       "      <th>4</th>\n",
       "      <td>1.0</td>\n",
       "      <td>0.889199</td>\n",
       "      <td>1</td>\n",
       "    </tr>\n",
       "    <tr>\n",
       "      <th>...</th>\n",
       "      <td>...</td>\n",
       "      <td>...</td>\n",
       "      <td>...</td>\n",
       "    </tr>\n",
       "    <tr>\n",
       "      <th>10095</th>\n",
       "      <td>1.0</td>\n",
       "      <td>0.665371</td>\n",
       "      <td>1</td>\n",
       "    </tr>\n",
       "    <tr>\n",
       "      <th>10096</th>\n",
       "      <td>1.0</td>\n",
       "      <td>0.607961</td>\n",
       "      <td>1</td>\n",
       "    </tr>\n",
       "    <tr>\n",
       "      <th>10097</th>\n",
       "      <td>1.0</td>\n",
       "      <td>0.777724</td>\n",
       "      <td>1</td>\n",
       "    </tr>\n",
       "    <tr>\n",
       "      <th>10098</th>\n",
       "      <td>1.0</td>\n",
       "      <td>0.846036</td>\n",
       "      <td>1</td>\n",
       "    </tr>\n",
       "    <tr>\n",
       "      <th>10099</th>\n",
       "      <td>1.0</td>\n",
       "      <td>0.679507</td>\n",
       "      <td>1</td>\n",
       "    </tr>\n",
       "  </tbody>\n",
       "</table>\n",
       "<p>10100 rows × 3 columns</p>\n",
       "</div>"
      ],
      "text/plain": [
       "         y     proba  y_predicted\n",
       "0      1.0  0.637387            1\n",
       "1      1.0  0.635165            1\n",
       "2      1.0  0.766586            1\n",
       "3      1.0  0.724564            1\n",
       "4      1.0  0.889199            1\n",
       "...    ...       ...          ...\n",
       "10095  1.0  0.665371            1\n",
       "10096  1.0  0.607961            1\n",
       "10097  1.0  0.777724            1\n",
       "10098  1.0  0.846036            1\n",
       "10099  1.0  0.679507            1\n",
       "\n",
       "[10100 rows x 3 columns]"
      ]
     },
     "execution_count": 6,
     "metadata": {},
     "output_type": "execute_result"
    }
   ],
   "source": [
    "df_a.insert(2, \"y_predicted\", y_pred, False) # inserting a new column predicted y score.\n",
    "df_a"
   ]
  },
  {
   "cell_type": "code",
   "execution_count": 7,
   "metadata": {
    "id": "tloXtPfZ5_Ks",
    "outputId": "64c30057-547e-49da-dbaf-e3d0c457336e"
   },
   "outputs": [
    {
     "data": {
      "text/plain": [
       "[[0, 0], [100, 10000]]"
      ]
     },
     "execution_count": 7,
     "metadata": {},
     "output_type": "execute_result"
    }
   ],
   "source": [
    "def confussion_Matrix(df):   # creating a consfussion matrix.\n",
    "    Confusn_matrix = [[0,0], [0,0]]\n",
    "    for x in range(len(df[\"y\"])):\n",
    "        if df[\"y\"][x] == 0 and df[\"y_predicted\"][x] == 0: #true negative\n",
    "            Confusn_matrix[0][0] +=1\n",
    "        elif df[\"y\"][x]  == 1 and df[\"y_predicted\"][x] == 0:  # False negative \n",
    "            Confusn_matrix[0][1] +=1\n",
    "        elif df[\"y\"][x]  == 0 and df[\"y_predicted\"][x] == 1:   #False positive\n",
    "            Confusn_matrix[1][0] +=1\n",
    "        elif df[\"y\"][x] == 1 and df[\"y_predicted\"][x] == 1:   # True positive\n",
    "            Confusn_matrix[1][1] +=1\n",
    "    return Confusn_matrix\n",
    "\n",
    "confussion_Matrix(df_a)"
   ]
  },
  {
   "cell_type": "code",
   "execution_count": 8,
   "metadata": {
    "id": "r4ch_ogg5_Ku",
    "outputId": "267513ad-957c-4fe7-d93c-4f32ce406f05"
   },
   "outputs": [
    {
     "data": {
      "text/plain": [
       "array([[    0,   100],\n",
       "       [    0, 10000]])"
      ]
     },
     "execution_count": 8,
     "metadata": {},
     "output_type": "execute_result"
    }
   ],
   "source": [
    "from sklearn.metrics import confusion_matrix\n",
    "confusion_matrix(df_a[\"y\"],df_a[\"y_predicted\"])"
   ]
  },
  {
   "cell_type": "code",
   "execution_count": 9,
   "metadata": {
    "id": "ngUf6PL75_Kw",
    "outputId": "89598b35-2eeb-4206-890c-8cc12b922095"
   },
   "outputs": [
    {
     "data": {
      "text/plain": [
       "0.9900990099009901"
      ]
     },
     "execution_count": 9,
     "metadata": {},
     "output_type": "execute_result"
    }
   ],
   "source": [
    "def precision(Confusn_matrix):\n",
    "    precision = Confusn_matrix[1][1]/( Confusn_matrix[1][1] + Confusn_matrix[1][0])\n",
    "    return precision\n",
    "\n",
    "precision(confussion_Matrix(df_a))"
   ]
  },
  {
   "cell_type": "code",
   "execution_count": 10,
   "metadata": {
    "id": "wJiF-HnV5_Ky",
    "outputId": "c5f3daec-7991-4a4f-c282-bff30b5dcafc"
   },
   "outputs": [
    {
     "data": {
      "text/plain": [
       "1.0"
      ]
     },
     "execution_count": 10,
     "metadata": {},
     "output_type": "execute_result"
    }
   ],
   "source": [
    "def Recall(Confusn_matrix):\n",
    "    Recall = Confusn_matrix[1][1]/( Confusn_matrix[1][1] + Confusn_matrix[0][1])\n",
    "    return Recall\n",
    "Recall(confussion_Matrix(df_a))"
   ]
  },
  {
   "cell_type": "code",
   "execution_count": 11,
   "metadata": {
    "id": "MeL6Ig3S5_Kz",
    "outputId": "33fde423-51a6-4e93-ee1a-74dc27608ce0"
   },
   "outputs": [],
   "source": [
    "def F1_Score(precision,Recall):\n",
    "    F1_Score = (2*(precision*Recall))/(precision + Recall)\n",
    "    return F1_Score"
   ]
  },
  {
   "cell_type": "code",
   "execution_count": 12,
   "metadata": {},
   "outputs": [
    {
     "data": {
      "text/plain": [
       "0.9950248756218906"
      ]
     },
     "execution_count": 12,
     "metadata": {},
     "output_type": "execute_result"
    }
   ],
   "source": [
    "F1_Score(precision(confussion_Matrix(df_a)),Recall(confussion_Matrix(df_a)))"
   ]
  },
  {
   "cell_type": "code",
   "execution_count": 13,
   "metadata": {},
   "outputs": [
    {
     "data": {
      "text/plain": [
       "0.9900990099009901"
      ]
     },
     "execution_count": 13,
     "metadata": {},
     "output_type": "execute_result"
    }
   ],
   "source": [
    "def Accuracy(df):\n",
    "    Count_neg = ((df['y']==0.0) & (df['y_predicted'] == 0.0)).sum() # true negative\n",
    "    Count_pos = ((df['y']==1.0) & (df['y_predicted'] == 1.0)).sum()  # True positive\n",
    "    Accuracy = (Count_neg + Count_pos)/len(df_a[\"y\"])\n",
    "    return Accuracy\n",
    "Accuracy(df_a)"
   ]
  },
  {
   "cell_type": "code",
   "execution_count": 14,
   "metadata": {},
   "outputs": [],
   "source": [
    "from tqdm import tqdm\n",
    "def AUC_Score(df):\n",
    "    TPR_lst =[]                          # will store the TPR for each threshold here.\n",
    "    FPR_lst =[]                          # will store the FPR for each threshold here.\n",
    "    df = df.sort_values(by = [\"proba\"], ascending = False)\n",
    "    \n",
    "    for threshold in tqdm(df[\"proba\"].unique()):  # creating a threshold to compute TPR and FPR        \n",
    "        df['y_predicted'] = np.where( df['proba'] >=  threshold, 1,0)\n",
    "        TP = ((df['y'] == 1.0 ) & (df['y_predicted'] == 1)).sum()\n",
    "        FP = ((df['y'] == 0.0 ) & (df['y_predicted'] == 1)).sum()\n",
    "        TN = ((df['y'] == 0.0 ) & (df['y_predicted'] == 0)).sum()\n",
    "        FN = ((df['y'] == 1.0 ) & (df['y_predicted'] == 0)).sum()\n",
    "        \n",
    "        TPR = TP / (TP + FN )\n",
    "        FPR = FP / (FP + TN)\n",
    "\n",
    "        TPR_lst.append(TPR)        \n",
    "        FPR_lst.append(FPR)        \n",
    "    return TPR_lst, FPR_lst"
   ]
  },
  {
   "cell_type": "code",
   "execution_count": 15,
   "metadata": {},
   "outputs": [
    {
     "name": "stderr",
     "output_type": "stream",
     "text": [
      "100%|████████████████████████████████████| 10100/10100 [00:23<00:00, 434.05it/s]\n"
     ]
    }
   ],
   "source": [
    "TPR,FPR = AUC_Score(df_a.copy())"
   ]
  },
  {
   "cell_type": "code",
   "execution_count": 56,
   "metadata": {
    "id": "BvyQJ0S-5_K3",
    "outputId": "61ce8bd1-d844-4d4d-b2da-e59e9b15929a"
   },
   "outputs": [
    {
     "data": {
      "text/plain": [
       "<function matplotlib.pyplot.show(close=None, block=None)>"
      ]
     },
     "execution_count": 56,
     "metadata": {},
     "output_type": "execute_result"
    },
    {
     "data": {
      "image/png": "[encoded data removed]",
      "text/plain": [
       "<Figure size 432x288 with 1 Axes>"
      ]
     },
     "metadata": {},
     "output_type": "display_data"
    }
   ],
   "source": [
    "import matplotlib.pyplot as plt\n",
    "plt.plot(TPR,FPR)\n",
    "plt.title('ROC_Curve')\n",
    "plt.xlabel('TPR')\n",
    "plt.ylabel('FPR')\n",
    "plt.show"
   ]
  },
  {
   "cell_type": "code",
   "execution_count": 17,
   "metadata": {},
   "outputs": [
    {
     "data": {
      "text/plain": [
       "0.48829900000000004"
      ]
     },
     "execution_count": 17,
     "metadata": {},
     "output_type": "execute_result"
    }
   ],
   "source": [
    "AUC_score = np.trapz(sorted(TPR), sorted(FPR))   # computing area under the curve usirng trapezoidal rule.\n",
    "AUC_score"
   ]
  },
  {
   "cell_type": "markdown",
   "metadata": {
    "id": "V5KZem1BQvn2"
   },
   "source": [
    "\n",
    "\n",
    "## B. Compute performance metrics for the given data '5_b.csv'\n",
    "<pre>\n",
    "   <b>Note 1:</b> in this data you can see number of positive points << number of negatives points\n",
    "   <b>Note 2:</b> use pandas or numpy to read the data from <b>5_b.csv</b>\n",
    "   <b>Note 3:</b> you need to derive the class labels from given score</pre> $y^{pred}= \\text{[0 if y_score < 0.5 else 1]}$\n",
    "\n",
    "<pre>\n",
    "<ol>\n",
    "<li> Compute Confusion Matrix </li>\n",
    "<li> Compute F1 Score </li>\n",
    "<li> Compute AUC Score\n",
    "<li> Compute Accuracy Score </li>\n",
    "</ol>\n",
    "</pre>"
   ]
  },
  {
   "cell_type": "code",
   "execution_count": 18,
   "metadata": {
    "id": "U2sKlq0YQvn5",
    "outputId": "2c482892-aa06-4750-831a-51a4cd8fca3d"
   },
   "outputs": [
    {
     "data": {
      "text/html": [
       "<div>\n",
       "<style scoped>\n",
       "    .dataframe tbody tr th:only-of-type {\n",
       "        vertical-align: middle;\n",
       "    }\n",
       "\n",
       "    .dataframe tbody tr th {\n",
       "        vertical-align: top;\n",
       "    }\n",
       "\n",
       "    .dataframe thead th {\n",
       "        text-align: right;\n",
       "    }\n",
       "</style>\n",
       "<table border=\"1\" class=\"dataframe\">\n",
       "  <thead>\n",
       "    <tr style=\"text-align: right;\">\n",
       "      <th></th>\n",
       "      <th>y</th>\n",
       "      <th>proba</th>\n",
       "    </tr>\n",
       "  </thead>\n",
       "  <tbody>\n",
       "    <tr>\n",
       "      <th>0</th>\n",
       "      <td>0.0</td>\n",
       "      <td>0.281035</td>\n",
       "    </tr>\n",
       "    <tr>\n",
       "      <th>1</th>\n",
       "      <td>0.0</td>\n",
       "      <td>0.465152</td>\n",
       "    </tr>\n",
       "    <tr>\n",
       "      <th>2</th>\n",
       "      <td>0.0</td>\n",
       "      <td>0.352793</td>\n",
       "    </tr>\n",
       "    <tr>\n",
       "      <th>3</th>\n",
       "      <td>0.0</td>\n",
       "      <td>0.157818</td>\n",
       "    </tr>\n",
       "    <tr>\n",
       "      <th>4</th>\n",
       "      <td>0.0</td>\n",
       "      <td>0.276648</td>\n",
       "    </tr>\n",
       "  </tbody>\n",
       "</table>\n",
       "</div>"
      ],
      "text/plain": [
       "     y     proba\n",
       "0  0.0  0.281035\n",
       "1  0.0  0.465152\n",
       "2  0.0  0.352793\n",
       "3  0.0  0.157818\n",
       "4  0.0  0.276648"
      ]
     },
     "execution_count": 18,
     "metadata": {},
     "output_type": "execute_result"
    }
   ],
   "source": [
    "df_b=pd.read_csv('5_b.csv')\n",
    "df_b.head()"
   ]
  },
  {
   "cell_type": "code",
   "execution_count": 19,
   "metadata": {
    "id": "xlLVa-cVAfCS"
   },
   "outputs": [],
   "source": [
    "y_pred =[]\n",
    "for x in df_b[\"proba\"]:\n",
    "    if x<0.5:    #will assign 0 if probability is less than 0.5\n",
    "        y_pred.append(0.0)\n",
    "    else:\n",
    "        y_pred.append(1.0)\n",
    "#print(y_pred)        "
   ]
  },
  {
   "cell_type": "code",
   "execution_count": 20,
   "metadata": {
    "id": "_OaBNg1F5_K_",
    "outputId": "6c39dd93-78fd-4605-c172-ff5865117711"
   },
   "outputs": [
    {
     "data": {
      "text/html": [
       "<div>\n",
       "<style scoped>\n",
       "    .dataframe tbody tr th:only-of-type {\n",
       "        vertical-align: middle;\n",
       "    }\n",
       "\n",
       "    .dataframe tbody tr th {\n",
       "        vertical-align: top;\n",
       "    }\n",
       "\n",
       "    .dataframe thead th {\n",
       "        text-align: right;\n",
       "    }\n",
       "</style>\n",
       "<table border=\"1\" class=\"dataframe\">\n",
       "  <thead>\n",
       "    <tr style=\"text-align: right;\">\n",
       "      <th></th>\n",
       "      <th>y</th>\n",
       "      <th>proba</th>\n",
       "      <th>y_predicted</th>\n",
       "    </tr>\n",
       "  </thead>\n",
       "  <tbody>\n",
       "    <tr>\n",
       "      <th>0</th>\n",
       "      <td>0.0</td>\n",
       "      <td>0.281035</td>\n",
       "      <td>0.0</td>\n",
       "    </tr>\n",
       "    <tr>\n",
       "      <th>1</th>\n",
       "      <td>0.0</td>\n",
       "      <td>0.465152</td>\n",
       "      <td>0.0</td>\n",
       "    </tr>\n",
       "    <tr>\n",
       "      <th>2</th>\n",
       "      <td>0.0</td>\n",
       "      <td>0.352793</td>\n",
       "      <td>0.0</td>\n",
       "    </tr>\n",
       "    <tr>\n",
       "      <th>3</th>\n",
       "      <td>0.0</td>\n",
       "      <td>0.157818</td>\n",
       "      <td>0.0</td>\n",
       "    </tr>\n",
       "    <tr>\n",
       "      <th>4</th>\n",
       "      <td>0.0</td>\n",
       "      <td>0.276648</td>\n",
       "      <td>0.0</td>\n",
       "    </tr>\n",
       "    <tr>\n",
       "      <th>...</th>\n",
       "      <td>...</td>\n",
       "      <td>...</td>\n",
       "      <td>...</td>\n",
       "    </tr>\n",
       "    <tr>\n",
       "      <th>10095</th>\n",
       "      <td>0.0</td>\n",
       "      <td>0.474401</td>\n",
       "      <td>0.0</td>\n",
       "    </tr>\n",
       "    <tr>\n",
       "      <th>10096</th>\n",
       "      <td>0.0</td>\n",
       "      <td>0.128403</td>\n",
       "      <td>0.0</td>\n",
       "    </tr>\n",
       "    <tr>\n",
       "      <th>10097</th>\n",
       "      <td>0.0</td>\n",
       "      <td>0.499331</td>\n",
       "      <td>0.0</td>\n",
       "    </tr>\n",
       "    <tr>\n",
       "      <th>10098</th>\n",
       "      <td>0.0</td>\n",
       "      <td>0.157616</td>\n",
       "      <td>0.0</td>\n",
       "    </tr>\n",
       "    <tr>\n",
       "      <th>10099</th>\n",
       "      <td>0.0</td>\n",
       "      <td>0.296618</td>\n",
       "      <td>0.0</td>\n",
       "    </tr>\n",
       "  </tbody>\n",
       "</table>\n",
       "<p>10100 rows × 3 columns</p>\n",
       "</div>"
      ],
      "text/plain": [
       "         y     proba  y_predicted\n",
       "0      0.0  0.281035          0.0\n",
       "1      0.0  0.465152          0.0\n",
       "2      0.0  0.352793          0.0\n",
       "3      0.0  0.157818          0.0\n",
       "4      0.0  0.276648          0.0\n",
       "...    ...       ...          ...\n",
       "10095  0.0  0.474401          0.0\n",
       "10096  0.0  0.128403          0.0\n",
       "10097  0.0  0.499331          0.0\n",
       "10098  0.0  0.157616          0.0\n",
       "10099  0.0  0.296618          0.0\n",
       "\n",
       "[10100 rows x 3 columns]"
      ]
     },
     "execution_count": 20,
     "metadata": {},
     "output_type": "execute_result"
    }
   ],
   "source": [
    "df_b.insert(2, \"y_predicted\", y_pred, False) # inserting a new column predicted y score.\n",
    "df_b"
   ]
  },
  {
   "cell_type": "code",
   "execution_count": 21,
   "metadata": {
    "id": "uIxf9zbB5_LB",
    "outputId": "25bce141-50f7-491f-b09d-42a78739a605"
   },
   "outputs": [
    {
     "data": {
      "text/plain": [
       "<AxesSubplot:xlabel='proba', ylabel='y_predicted'>"
      ]
     },
     "execution_count": 21,
     "metadata": {},
     "output_type": "execute_result"
    },
    {
     "data": {
      "image/png": "[encoded data removed]",
      "text/plain": [
       "<Figure size 432x288 with 1 Axes>"
      ]
     },
     "metadata": {},
     "output_type": "display_data"
    }
   ],
   "source": [
    "import seaborn as sns\n",
    "sns.set_theme(style='whitegrid')\n",
    "sns.scatterplot(x= \"proba\",y= \"y_predicted\", data = df_b, hue = \"y\")"
   ]
  },
  {
   "cell_type": "markdown",
   "metadata": {
    "id": "ZAPEmve65_LC"
   },
   "source": [
    "Some of the points are incorrectly classified as class 1 but it was from class 0."
   ]
  },
  {
   "cell_type": "code",
   "execution_count": 22,
   "metadata": {
    "id": "FE64lDLl5_LC",
    "outputId": "1944b861-52ff-4224-8b2f-6fc76dcdab73"
   },
   "outputs": [
    {
     "data": {
      "text/plain": [
       "y              294\n",
       "proba          294\n",
       "y_predicted    294\n",
       "dtype: int64"
      ]
     },
     "execution_count": 22,
     "metadata": {},
     "output_type": "execute_result"
    }
   ],
   "source": [
    "#Checking how many datapoints are there whose probability is greater than 0.5\n",
    "df_b[df_b[\"proba\"]>0.5].count()   #points from class 1."
   ]
  },
  {
   "cell_type": "code",
   "execution_count": 23,
   "metadata": {
    "id": "TqFBASUA5_LD",
    "outputId": "489ecdf2-8a69-4d97-8652-e7a30a7a292a"
   },
   "outputs": [
    {
     "data": {
      "text/plain": [
       "y              9806\n",
       "proba          9806\n",
       "y_predicted    9806\n",
       "dtype: int64"
      ]
     },
     "execution_count": 23,
     "metadata": {},
     "output_type": "execute_result"
    }
   ],
   "source": [
    "df_b[df_b[\"proba\"]<0.5].count()  #points from class 0."
   ]
  },
  {
   "cell_type": "code",
   "execution_count": 24,
   "metadata": {
    "id": "4Jul5me95_LE",
    "outputId": "f048633a-ca45-4def-8c60-b53851051a5b"
   },
   "outputs": [
    {
     "data": {
      "text/plain": [
       "[[9761, 45], [239, 55]]"
      ]
     },
     "execution_count": 24,
     "metadata": {},
     "output_type": "execute_result"
    }
   ],
   "source": [
    "confussion_Matrix(df_b)"
   ]
  },
  {
   "cell_type": "code",
   "execution_count": 25,
   "metadata": {
    "id": "eCTy5NZ15_LE",
    "outputId": "d61c2da9-fff8-452d-feee-feee26ba7c2d"
   },
   "outputs": [
    {
     "data": {
      "text/plain": [
       "array([[9761,  239],\n",
       "       [  45,   55]])"
      ]
     },
     "execution_count": 25,
     "metadata": {},
     "output_type": "execute_result"
    }
   ],
   "source": [
    "from sklearn.metrics import confusion_matrix\n",
    "confusion_matrix(df_b[\"y\"],df_b[\"y_predicted\"])"
   ]
  },
  {
   "cell_type": "code",
   "execution_count": 26,
   "metadata": {
    "id": "NqmB-JuJ5_LF",
    "outputId": "d0b0d08b-883d-4bf3-b984-f7e4881e2e5a"
   },
   "outputs": [
    {
     "data": {
      "text/plain": [
       "0.1870748299319728"
      ]
     },
     "execution_count": 26,
     "metadata": {},
     "output_type": "execute_result"
    }
   ],
   "source": [
    "precision(confussion_Matrix(df_b))"
   ]
  },
  {
   "cell_type": "code",
   "execution_count": 27,
   "metadata": {
    "id": "4On9TfZ25_LF",
    "outputId": "d3e4a645-6a09-4da4-95b3-977289351acb"
   },
   "outputs": [
    {
     "data": {
      "text/plain": [
       "0.55"
      ]
     },
     "execution_count": 27,
     "metadata": {},
     "output_type": "execute_result"
    }
   ],
   "source": [
    "Recall(confussion_Matrix(df_b))"
   ]
  },
  {
   "cell_type": "code",
   "execution_count": 28,
   "metadata": {
    "id": "SXOmCvCg5_LG",
    "outputId": "7d38fd60-9384-4256-ade1-de223a26fc6d"
   },
   "outputs": [
    {
     "data": {
      "text/plain": [
       "0.2791878172588833"
      ]
     },
     "execution_count": 28,
     "metadata": {},
     "output_type": "execute_result"
    }
   ],
   "source": [
    "F1_Score(precision(confussion_Matrix(df_b)),Recall(confussion_Matrix(df_b)))"
   ]
  },
  {
   "cell_type": "code",
   "execution_count": 29,
   "metadata": {},
   "outputs": [
    {
     "data": {
      "text/plain": [
       "0.9718811881188119"
      ]
     },
     "execution_count": 29,
     "metadata": {},
     "output_type": "execute_result"
    }
   ],
   "source": [
    "Accuracy(df_b)"
   ]
  },
  {
   "cell_type": "code",
   "execution_count": 30,
   "metadata": {},
   "outputs": [
    {
     "name": "stderr",
     "output_type": "stream",
     "text": [
      "100%|████████████████████████████████████| 10100/10100 [00:24<00:00, 406.39it/s]\n"
     ]
    }
   ],
   "source": [
    "TPR,FPR  = AUC_Score(df_b.copy())"
   ]
  },
  {
   "cell_type": "code",
   "execution_count": 57,
   "metadata": {
    "id": "hYHd21UG5_LI",
    "outputId": "ed026f0d-e7d8-43b1-e0f5-3820c3cc6640"
   },
   "outputs": [
    {
     "data": {
      "text/plain": [
       "<function matplotlib.pyplot.show(close=None, block=None)>"
      ]
     },
     "execution_count": 57,
     "metadata": {},
     "output_type": "execute_result"
    },
    {
     "data": {
      "image/png": "[encoded data removed]",
      "text/plain": [
       "<Figure size 432x288 with 1 Axes>"
      ]
     },
     "metadata": {},
     "output_type": "display_data"
    }
   ],
   "source": [
    "import matplotlib.pyplot as plt\n",
    "plt.plot(TPR,FPR)\n",
    "plt.title('ROC_Curve')\n",
    "plt.xlabel('TPR')\n",
    "plt.ylabel('FPR')\n",
    "plt.show"
   ]
  },
  {
   "cell_type": "code",
   "execution_count": 32,
   "metadata": {
    "id": "DfQ63lKD5_LJ",
    "outputId": "6e028a53-feba-417a-b4d7-caeada773a9f"
   },
   "outputs": [
    {
     "data": {
      "text/plain": [
       "0.9377570000000001"
      ]
     },
     "execution_count": 32,
     "metadata": {},
     "output_type": "execute_result"
    }
   ],
   "source": [
    "AUC_score = np.trapz(sorted(TPR),sorted(FPR)) \n",
    "AUC_score"
   ]
  },
  {
   "cell_type": "markdown",
   "metadata": {
    "id": "GiPGonTzQvoB"
   },
   "source": [
    "### C. Compute the best threshold (similarly to ROC curve computation) of probability which gives lowest values of metric <b>A</b> for the given data \n",
    "<br>\n",
    "\n",
    "you will be predicting label of a data points like this: $y^{pred}= \\text{[0 if y_score < threshold  else 1]}$\n",
    "\n",
    "$ A = 500 \\times \\text{number of false negative} + 100 \\times \\text{numebr of false positive}$\n",
    "\n",
    "<pre>\n",
    "   <b>Note 1:</b> in this data you can see number of negative points > number of positive points\n",
    "   <b>Note 2:</b> use pandas or numpy to read the data from <b>5_c.csv</b>\n",
    "</pre>"
   ]
  },
  {
   "cell_type": "code",
   "execution_count": 33,
   "metadata": {
    "id": "x5HIJzq1QvoE",
    "outputId": "41fd85de-6200-491b-cb6f-d479a3682b26"
   },
   "outputs": [
    {
     "data": {
      "text/html": [
       "<div>\n",
       "<style scoped>\n",
       "    .dataframe tbody tr th:only-of-type {\n",
       "        vertical-align: middle;\n",
       "    }\n",
       "\n",
       "    .dataframe tbody tr th {\n",
       "        vertical-align: top;\n",
       "    }\n",
       "\n",
       "    .dataframe thead th {\n",
       "        text-align: right;\n",
       "    }\n",
       "</style>\n",
       "<table border=\"1\" class=\"dataframe\">\n",
       "  <thead>\n",
       "    <tr style=\"text-align: right;\">\n",
       "      <th></th>\n",
       "      <th>y</th>\n",
       "      <th>prob</th>\n",
       "    </tr>\n",
       "  </thead>\n",
       "  <tbody>\n",
       "    <tr>\n",
       "      <th>0</th>\n",
       "      <td>0</td>\n",
       "      <td>0.458521</td>\n",
       "    </tr>\n",
       "    <tr>\n",
       "      <th>1</th>\n",
       "      <td>0</td>\n",
       "      <td>0.505037</td>\n",
       "    </tr>\n",
       "    <tr>\n",
       "      <th>2</th>\n",
       "      <td>0</td>\n",
       "      <td>0.418652</td>\n",
       "    </tr>\n",
       "    <tr>\n",
       "      <th>3</th>\n",
       "      <td>0</td>\n",
       "      <td>0.412057</td>\n",
       "    </tr>\n",
       "    <tr>\n",
       "      <th>4</th>\n",
       "      <td>0</td>\n",
       "      <td>0.375579</td>\n",
       "    </tr>\n",
       "  </tbody>\n",
       "</table>\n",
       "</div>"
      ],
      "text/plain": [
       "   y      prob\n",
       "0  0  0.458521\n",
       "1  0  0.505037\n",
       "2  0  0.418652\n",
       "3  0  0.412057\n",
       "4  0  0.375579"
      ]
     },
     "execution_count": 33,
     "metadata": {},
     "output_type": "execute_result"
    }
   ],
   "source": [
    "df_c=pd.read_csv('5_c.csv')\n",
    "df_c.head()"
   ]
  },
  {
   "cell_type": "code",
   "execution_count": 34,
   "metadata": {
    "id": "sZDSW1RG5_LL"
   },
   "outputs": [],
   "source": [
    "df_c.rename(columns = {\"prob\" : \"proba\"}, inplace = True)"
   ]
  },
  {
   "cell_type": "code",
   "execution_count": 35,
   "metadata": {
    "id": "w9iL573N5_LL"
   },
   "outputs": [],
   "source": [
    "y_pred =[]\n",
    "for x in df_c[\"proba\"]:\n",
    "    if x<0.5:    #will assign 0 if probability is less than 0.5\n",
    "        y_pred.append(0.0)\n",
    "    else:\n",
    "        y_pred.append(1.0)\n",
    "#print(y_pred) "
   ]
  },
  {
   "cell_type": "code",
   "execution_count": 36,
   "metadata": {
    "id": "Ilg2eLAj5_LM",
    "outputId": "3a300fbd-3fea-4cf9-f5fc-f8fd12215a44"
   },
   "outputs": [
    {
     "data": {
      "text/html": [
       "<div>\n",
       "<style scoped>\n",
       "    .dataframe tbody tr th:only-of-type {\n",
       "        vertical-align: middle;\n",
       "    }\n",
       "\n",
       "    .dataframe tbody tr th {\n",
       "        vertical-align: top;\n",
       "    }\n",
       "\n",
       "    .dataframe thead th {\n",
       "        text-align: right;\n",
       "    }\n",
       "</style>\n",
       "<table border=\"1\" class=\"dataframe\">\n",
       "  <thead>\n",
       "    <tr style=\"text-align: right;\">\n",
       "      <th></th>\n",
       "      <th>y</th>\n",
       "      <th>proba</th>\n",
       "      <th>y_predicted</th>\n",
       "    </tr>\n",
       "  </thead>\n",
       "  <tbody>\n",
       "    <tr>\n",
       "      <th>0</th>\n",
       "      <td>0</td>\n",
       "      <td>0.458521</td>\n",
       "      <td>0.0</td>\n",
       "    </tr>\n",
       "    <tr>\n",
       "      <th>1</th>\n",
       "      <td>0</td>\n",
       "      <td>0.505037</td>\n",
       "      <td>1.0</td>\n",
       "    </tr>\n",
       "    <tr>\n",
       "      <th>2</th>\n",
       "      <td>0</td>\n",
       "      <td>0.418652</td>\n",
       "      <td>0.0</td>\n",
       "    </tr>\n",
       "    <tr>\n",
       "      <th>3</th>\n",
       "      <td>0</td>\n",
       "      <td>0.412057</td>\n",
       "      <td>0.0</td>\n",
       "    </tr>\n",
       "    <tr>\n",
       "      <th>4</th>\n",
       "      <td>0</td>\n",
       "      <td>0.375579</td>\n",
       "      <td>0.0</td>\n",
       "    </tr>\n",
       "    <tr>\n",
       "      <th>...</th>\n",
       "      <td>...</td>\n",
       "      <td>...</td>\n",
       "      <td>...</td>\n",
       "    </tr>\n",
       "    <tr>\n",
       "      <th>2847</th>\n",
       "      <td>1</td>\n",
       "      <td>0.491663</td>\n",
       "      <td>0.0</td>\n",
       "    </tr>\n",
       "    <tr>\n",
       "      <th>2848</th>\n",
       "      <td>1</td>\n",
       "      <td>0.292109</td>\n",
       "      <td>0.0</td>\n",
       "    </tr>\n",
       "    <tr>\n",
       "      <th>2849</th>\n",
       "      <td>1</td>\n",
       "      <td>0.659161</td>\n",
       "      <td>1.0</td>\n",
       "    </tr>\n",
       "    <tr>\n",
       "      <th>2850</th>\n",
       "      <td>1</td>\n",
       "      <td>0.456265</td>\n",
       "      <td>0.0</td>\n",
       "    </tr>\n",
       "    <tr>\n",
       "      <th>2851</th>\n",
       "      <td>1</td>\n",
       "      <td>0.659161</td>\n",
       "      <td>1.0</td>\n",
       "    </tr>\n",
       "  </tbody>\n",
       "</table>\n",
       "<p>2852 rows × 3 columns</p>\n",
       "</div>"
      ],
      "text/plain": [
       "      y     proba  y_predicted\n",
       "0     0  0.458521          0.0\n",
       "1     0  0.505037          1.0\n",
       "2     0  0.418652          0.0\n",
       "3     0  0.412057          0.0\n",
       "4     0  0.375579          0.0\n",
       "...  ..       ...          ...\n",
       "2847  1  0.491663          0.0\n",
       "2848  1  0.292109          0.0\n",
       "2849  1  0.659161          1.0\n",
       "2850  1  0.456265          0.0\n",
       "2851  1  0.659161          1.0\n",
       "\n",
       "[2852 rows x 3 columns]"
      ]
     },
     "execution_count": 36,
     "metadata": {},
     "output_type": "execute_result"
    }
   ],
   "source": [
    "df_c.insert(2, \"y_predicted\", y_pred, False) # inserting a new column predicted y score.\n",
    "df_c"
   ]
  },
  {
   "cell_type": "code",
   "execution_count": 37,
   "metadata": {
    "id": "xlZECDQ05_LN",
    "outputId": "4e67a589-583b-4ea2-fc1a-6195d7c34bd2"
   },
   "outputs": [
    {
     "data": {
      "text/plain": [
       "<AxesSubplot:xlabel='proba', ylabel='y_predicted'>"
      ]
     },
     "execution_count": 37,
     "metadata": {},
     "output_type": "execute_result"
    },
    {
     "data": {
      "image/png": "[encoded data removed]",
      "text/plain": [
       "<Figure size 432x288 with 1 Axes>"
      ]
     },
     "metadata": {},
     "output_type": "display_data"
    }
   ],
   "source": [
    "import seaborn as sns\n",
    "sns.set_theme(style='whitegrid')\n",
    "sns.scatterplot(x= \"proba\",y= \"y_predicted\", data = df_c, hue = \"y\")"
   ]
  },
  {
   "cell_type": "code",
   "execution_count": 38,
   "metadata": {
    "id": "eAPjewjzAfCa",
    "outputId": "7521e25f-4ba8-48ec-a7b6-c997819e1499"
   },
   "outputs": [
    {
     "data": {
      "text/plain": [
       "[[1637, 462], [168, 585]]"
      ]
     },
     "execution_count": 38,
     "metadata": {},
     "output_type": "execute_result"
    }
   ],
   "source": [
    "confussion_Matrix(df_c)"
   ]
  },
  {
   "cell_type": "code",
   "execution_count": 39,
   "metadata": {
    "id": "ALNSRaXf5_LO",
    "outputId": "2fe04115-a007-4e2d-bc7f-9e6cd2a9a977"
   },
   "outputs": [
    {
     "data": {
      "text/plain": [
       "array([[1637,  168],\n",
       "       [ 462,  585]])"
      ]
     },
     "execution_count": 39,
     "metadata": {},
     "output_type": "execute_result"
    }
   ],
   "source": [
    "from sklearn.metrics import confusion_matrix\n",
    "confusion_matrix(df_c[\"y\"],df_c[\"y_predicted\"])"
   ]
  },
  {
   "cell_type": "code",
   "execution_count": 40,
   "metadata": {},
   "outputs": [],
   "source": [
    "from tqdm import tqdm\n",
    "def Matrix_A(df):\n",
    "    FN_lst =[]  # will store the FN for each threshold here.\n",
    "    FP_lst =[]  # will store the FP for each threshold here.\n",
    "    df = df.sort_values(by = [\"proba\"], ascending = False)\n",
    "    Length = len(df[\"y\"])\n",
    "    for threshold in tqdm(df[\"proba\"].unique()): \n",
    "        df['y_predicted'] = np.where( df['proba'] >=  threshold, 1,0)\n",
    "        \n",
    "        FN = 500*(((df['y'] == 1.0 ) & (df['y_predicted'] == 0.0)).sum())\n",
    "        FN_lst.append((FN,threshold))\n",
    "        FP = 100*(((df['y'] == 0.0 ) & (df['y_predicted'] == 1.0)).sum())\n",
    "        FP_lst.append((FP,threshold) )       \n",
    "    return FN_lst, FP_lst"
   ]
  },
  {
   "cell_type": "code",
   "execution_count": 41,
   "metadata": {},
   "outputs": [
    {
     "name": "stderr",
     "output_type": "stream",
     "text": [
      "100%|██████████████████████████████████████| 2791/2791 [00:04<00:00, 688.38it/s]\n"
     ]
    }
   ],
   "source": [
    "FN_lst, FP_lst = Matrix_A(df_c.copy())"
   ]
  },
  {
   "cell_type": "code",
   "execution_count": 42,
   "metadata": {
    "id": "0EYi8_sh5_LR"
   },
   "outputs": [],
   "source": [
    "lst_sum = []\n",
    "lst_threshold = []\n",
    "for x in range (len(FP_lst)-1):\n",
    "    lst_sum.append(FN_lst[x][0]+FP_lst[x][0])\n",
    "    lst_threshold.append(FP_lst[x][1])"
   ]
  },
  {
   "cell_type": "code",
   "execution_count": 43,
   "metadata": {
    "id": "4IjC7IV55_LR",
    "outputId": "c7622bb6-798a-4de1-d8b1-bb9bfb379119"
   },
   "outputs": [
    {
     "data": {
      "text/plain": [
       "<function matplotlib.pyplot.show(close=None, block=None)>"
      ]
     },
     "execution_count": 43,
     "metadata": {},
     "output_type": "execute_result"
    },
    {
     "data": {
      "image/png": "[encoded data removed]",
      "text/plain": [
       "<Figure size 432x288 with 1 Axes>"
      ]
     },
     "metadata": {},
     "output_type": "display_data"
    }
   ],
   "source": [
    "import matplotlib.pyplot as plt\n",
    "plt.plot(lst_threshold,lst_sum)\n",
    "plt.title('ROC_curve')\n",
    "plt.xlabel('thresholds')\n",
    "plt.ylabel('lst_sum of FN and FP')\n",
    "plt.show"
   ]
  },
  {
   "cell_type": "markdown",
   "metadata": {
    "id": "171cbYSV5_LS"
   },
   "source": [
    "Conclussion: The threshold value need to close to 0.4 for the minimum value of A."
   ]
  },
  {
   "cell_type": "code",
   "execution_count": 44,
   "metadata": {
    "id": "W_Iu1_oU5_LS"
   },
   "outputs": [],
   "source": [
    "dictionary = dict(zip(lst_sum,lst_threshold))  #creating a dict. \n",
    "A = dict(sorted(dictionary.items(), key=lambda item: item[0]))"
   ]
  },
  {
   "cell_type": "code",
   "execution_count": 45,
   "metadata": {
    "id": "cbkUL6bO5_LT",
    "outputId": "4a4a4bee-3405-43c8-dac7-69b5e997c72b"
   },
   "outputs": [
    {
     "name": "stdout",
     "output_type": "stream",
     "text": [
      "(141000, 0.2300390278970873)\n"
     ]
    }
   ],
   "source": [
    "dict_pairs = A.items()\n",
    "pairs_iterator = iter(dict_pairs)\n",
    "first_pair = next(pairs_iterator)\n",
    "print(first_pair)"
   ]
  },
  {
   "cell_type": "markdown",
   "metadata": {
    "id": "23aeUv1u5_LU"
   },
   "source": [
    "The minimum value of matrix A is 141000 and it is possible at threshold 0.2300...."
   ]
  },
  {
   "cell_type": "markdown",
   "metadata": {
    "id": "sD4CcgjXQvoL"
   },
   "source": [
    "\n",
    "### D.</b></font> Compute performance metrics(for regression) for the given data 5_d.csv\n",
    "<pre>    <b>Note 2:</b> use pandas or numpy to read the data from <b>5_d.csv</b>\n",
    "    <b>Note 1:</b> <b>5_d.csv</b> will having two columns Y and predicted_Y both are real valued features\n",
    "<ol>\n",
    "<li> Compute Mean Square Error </li>\n",
    "<li> Compute MAPE:</li>\n",
    "<li> Compute R^2 error: </li>\n",
    "</ol>\n",
    "</pre>"
   ]
  },
  {
   "cell_type": "code",
   "execution_count": 46,
   "metadata": {
    "id": "sVOj-bF9AfCd",
    "outputId": "bdbde562-207a-4357-d62f-06c284453184"
   },
   "outputs": [
    {
     "data": {
      "text/html": [
       "<div>\n",
       "<style scoped>\n",
       "    .dataframe tbody tr th:only-of-type {\n",
       "        vertical-align: middle;\n",
       "    }\n",
       "\n",
       "    .dataframe tbody tr th {\n",
       "        vertical-align: top;\n",
       "    }\n",
       "\n",
       "    .dataframe thead th {\n",
       "        text-align: right;\n",
       "    }\n",
       "</style>\n",
       "<table border=\"1\" class=\"dataframe\">\n",
       "  <thead>\n",
       "    <tr style=\"text-align: right;\">\n",
       "      <th></th>\n",
       "      <th>y</th>\n",
       "      <th>pred</th>\n",
       "    </tr>\n",
       "  </thead>\n",
       "  <tbody>\n",
       "    <tr>\n",
       "      <th>0</th>\n",
       "      <td>101.0</td>\n",
       "      <td>100.0</td>\n",
       "    </tr>\n",
       "    <tr>\n",
       "      <th>1</th>\n",
       "      <td>120.0</td>\n",
       "      <td>100.0</td>\n",
       "    </tr>\n",
       "    <tr>\n",
       "      <th>2</th>\n",
       "      <td>131.0</td>\n",
       "      <td>113.0</td>\n",
       "    </tr>\n",
       "    <tr>\n",
       "      <th>3</th>\n",
       "      <td>164.0</td>\n",
       "      <td>125.0</td>\n",
       "    </tr>\n",
       "    <tr>\n",
       "      <th>4</th>\n",
       "      <td>154.0</td>\n",
       "      <td>152.0</td>\n",
       "    </tr>\n",
       "  </tbody>\n",
       "</table>\n",
       "</div>"
      ],
      "text/plain": [
       "       y   pred\n",
       "0  101.0  100.0\n",
       "1  120.0  100.0\n",
       "2  131.0  113.0\n",
       "3  164.0  125.0\n",
       "4  154.0  152.0"
      ]
     },
     "execution_count": 46,
     "metadata": {},
     "output_type": "execute_result"
    }
   ],
   "source": [
    "df_d=pd.read_csv('5_d.csv')\n",
    "df_d.head()"
   ]
  },
  {
   "cell_type": "code",
   "execution_count": 47,
   "metadata": {
    "id": "uRhL1pheAfCe",
    "outputId": "a80ceb87-c8db-4ebc-9554-53bd0d258db9"
   },
   "outputs": [
    {
     "name": "stderr",
     "output_type": "stream",
     "text": [
      "100%|████████████████████████████████| 157200/157200 [00:03<00:00, 49747.86it/s]\n"
     ]
    }
   ],
   "source": [
    "Sum_of_sqr_error = 0 \n",
    "for x in tqdm(range(len(df_d[\"y\"]))):\n",
    "    Sum_of_sqr_error = Sum_of_sqr_error + (df_d[\"y\"][x] - df_d[\"pred\"][x])**2\n",
    "    MSE = Sum_of_sqr_error/(len(df_d[\"y\"]))"
   ]
  },
  {
   "cell_type": "code",
   "execution_count": 48,
   "metadata": {
    "id": "RPvMWtac5_LW",
    "outputId": "0cf1bf5b-55e2-4639-e109-38c42af9d0d7"
   },
   "outputs": [
    {
     "name": "stdout",
     "output_type": "stream",
     "text": [
      "177.16569974554707\n"
     ]
    }
   ],
   "source": [
    "print(MSE)  "
   ]
  },
  {
   "cell_type": "code",
   "execution_count": 49,
   "metadata": {
    "id": "pzqGl9DE5_LX",
    "outputId": "69b8437f-3673-46c8-f90c-2f2c5dce2b89"
   },
   "outputs": [
    {
     "data": {
      "text/plain": [
       "177.16569974554707"
      ]
     },
     "execution_count": 49,
     "metadata": {},
     "output_type": "execute_result"
    }
   ],
   "source": [
    "from sklearn.metrics import mean_squared_error\n",
    "\n",
    "mean_squared_error(df_d[\"y\"],df_d[\"pred\"])"
   ]
  },
  {
   "cell_type": "markdown",
   "metadata": {
    "id": "SycPba_15_LX"
   },
   "source": [
    "### mean_absolute_percentage_error"
   ]
  },
  {
   "cell_type": "code",
   "execution_count": 50,
   "metadata": {
    "id": "rUIT18US5_LY",
    "outputId": "6473cc28-e33f-4fec-db4a-452e6b79c805"
   },
   "outputs": [
    {
     "name": "stderr",
     "output_type": "stream",
     "text": [
      "100%|████████████████████████████████| 157200/157200 [00:03<00:00, 48298.11it/s]\n"
     ]
    }
   ],
   "source": [
    "Abs_Error_sum = 0 \n",
    "Sum_of_Act_y = 0\n",
    "for x in tqdm(range(len(df_d[\"y\"]))):\n",
    "    Abs_Error_sum = Abs_Error_sum + abs(df_d[\"y\"][x] - df_d[\"pred\"][x])\n",
    "    Sum_of_Act_y = Sum_of_Act_y + df_d[\"y\"][x]\n",
    "Modified_MAPE = Abs_Error_sum/Sum_of_Act_y    "
   ]
  },
  {
   "cell_type": "code",
   "execution_count": 51,
   "metadata": {
    "id": "v7JpCV6l5_LY",
    "outputId": "c07809b7-5ff3-460b-e234-216bea9cb948"
   },
   "outputs": [
    {
     "data": {
      "text/plain": [
       "0.1291202994009687"
      ]
     },
     "execution_count": 51,
     "metadata": {},
     "output_type": "execute_result"
    }
   ],
   "source": [
    "Modified_MAPE"
   ]
  },
  {
   "cell_type": "markdown",
   "metadata": {
    "id": "bAPCLmn15_LZ"
   },
   "source": [
    "### Coefficient of determiination."
   ]
  },
  {
   "cell_type": "code",
   "execution_count": 52,
   "metadata": {
    "id": "9RFNYIdu5_LZ",
    "outputId": "633e9c3e-cd7b-4237-f1a2-ae716e49f50a"
   },
   "outputs": [
    {
     "name": "stderr",
     "output_type": "stream",
     "text": [
      "100%|███████████████████████████████| 157200/157200 [00:01<00:00, 121209.51it/s]\n"
     ]
    }
   ],
   "source": [
    "# determining the average of y.\n",
    "Sum_of_y = 0\n",
    "for x in tqdm(range(len(df_d[\"y\"]))):\n",
    "    Sum_of_y = Sum_of_y + df_d[\"y\"][x]\n",
    "avg_of_y = Sum_of_y/(len(df_d[\"y\"]))"
   ]
  },
  {
   "cell_type": "code",
   "execution_count": 53,
   "metadata": {
    "id": "JgsVBcpo5_La",
    "outputId": "db636182-3e98-4c43-e5b1-ebfe2e9db0f5"
   },
   "outputs": [
    {
     "name": "stderr",
     "output_type": "stream",
     "text": [
      "100%|███████████████████████████████| 157200/157200 [00:01<00:00, 140274.86it/s]\n"
     ]
    }
   ],
   "source": [
    "Sum_of_sqr_err_Mean = 0\n",
    "for x in tqdm(range(len(df_d[\"y\"]))):\n",
    "    Sum_of_sqr_err_Mean = Sum_of_sqr_err_Mean + (df_d[\"y\"][x] - avg_of_y)**2"
   ]
  },
  {
   "cell_type": "code",
   "execution_count": 54,
   "metadata": {
    "id": "tbeRpiQ-5_La",
    "outputId": "c13d785a-1354-4643-87d7-7fd7be4bb747"
   },
   "outputs": [
    {
     "name": "stderr",
     "output_type": "stream",
     "text": [
      "100%|████████████████████████████████| 157200/157200 [00:02<00:00, 71345.85it/s]\n"
     ]
    }
   ],
   "source": [
    "Sum_of_sqr_error = 0 \n",
    "for x in tqdm(range(len(df_d[\"y\"]))):\n",
    "    Sum_of_sqr_error = Sum_of_sqr_error + (df_d[\"y\"][x] - df_d[\"pred\"][x])**2"
   ]
  },
  {
   "cell_type": "code",
   "execution_count": 55,
   "metadata": {
    "id": "XAP3DcAr5_Lb",
    "outputId": "47635dfe-2292-4254-ed0b-d03e5d938f70"
   },
   "outputs": [
    {
     "name": "stdout",
     "output_type": "stream",
     "text": [
      "0.9563582786990964\n"
     ]
    }
   ],
   "source": [
    "Coeff_deter = 1-(Sum_of_sqr_error/Sum_of_sqr_err_Mean)\n",
    "print(Coeff_deter)"
   ]
  },
  {
   "cell_type": "code",
   "execution_count": null,
   "metadata": {
    "id": "yZLI2X9M5_Lb"
   },
   "outputs": [],
   "source": []
  }
 ],
 "metadata": {
  "colab": {
   "collapsed_sections": [],
   "name": "5_Performance_metrics_Instructions.ipynb",
   "provenance": []
  },
  "kernelspec": {
   "display_name": "Python 3 (ipykernel)",
   "language": "python",
   "name": "python3"
  },
  "language_info": {
   "codemirror_mode": {
    "name": "ipython",
    "version": 3
   },
   "file_extension": ".py",
   "mimetype": "text/x-python",
   "name": "python",
   "nbconvert_exporter": "python",
   "pygments_lexer": "ipython3",
   "version": "3.9.7"
  }
 },
 "nbformat": 4,
 "nbformat_minor": 1
}
